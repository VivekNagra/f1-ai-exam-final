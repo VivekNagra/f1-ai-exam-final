{
 "cells": [
  {
   "cell_type": "code",
   "execution_count": 1,
   "id": "e37bca63-400d-4519-bff6-9e12054c242f",
   "metadata": {},
   "outputs": [
    {
     "data": {
      "text/html": [
       "<div>\n",
       "<style scoped>\n",
       "    .dataframe tbody tr th:only-of-type {\n",
       "        vertical-align: middle;\n",
       "    }\n",
       "\n",
       "    .dataframe tbody tr th {\n",
       "        vertical-align: top;\n",
       "    }\n",
       "\n",
       "    .dataframe thead th {\n",
       "        text-align: right;\n",
       "    }\n",
       "</style>\n",
       "<table border=\"1\" class=\"dataframe\">\n",
       "  <thead>\n",
       "    <tr style=\"text-align: right;\">\n",
       "      <th></th>\n",
       "      <th>driverId</th>\n",
       "      <th>driverRef</th>\n",
       "      <th>number</th>\n",
       "      <th>code</th>\n",
       "      <th>forename</th>\n",
       "      <th>surname</th>\n",
       "      <th>dob</th>\n",
       "      <th>nationality</th>\n",
       "      <th>url</th>\n",
       "    </tr>\n",
       "  </thead>\n",
       "  <tbody>\n",
       "    <tr>\n",
       "      <th>0</th>\n",
       "      <td>1</td>\n",
       "      <td>hamilton</td>\n",
       "      <td>44</td>\n",
       "      <td>HAM</td>\n",
       "      <td>Lewis</td>\n",
       "      <td>Hamilton</td>\n",
       "      <td>1985-01-07</td>\n",
       "      <td>British</td>\n",
       "      <td>http://en.wikipedia.org/wiki/Lewis_Hamilton</td>\n",
       "    </tr>\n",
       "    <tr>\n",
       "      <th>1</th>\n",
       "      <td>2</td>\n",
       "      <td>heidfeld</td>\n",
       "      <td>\\N</td>\n",
       "      <td>HEI</td>\n",
       "      <td>Nick</td>\n",
       "      <td>Heidfeld</td>\n",
       "      <td>1977-05-10</td>\n",
       "      <td>German</td>\n",
       "      <td>http://en.wikipedia.org/wiki/Nick_Heidfeld</td>\n",
       "    </tr>\n",
       "    <tr>\n",
       "      <th>2</th>\n",
       "      <td>3</td>\n",
       "      <td>rosberg</td>\n",
       "      <td>6</td>\n",
       "      <td>ROS</td>\n",
       "      <td>Nico</td>\n",
       "      <td>Rosberg</td>\n",
       "      <td>1985-06-27</td>\n",
       "      <td>German</td>\n",
       "      <td>http://en.wikipedia.org/wiki/Nico_Rosberg</td>\n",
       "    </tr>\n",
       "    <tr>\n",
       "      <th>3</th>\n",
       "      <td>4</td>\n",
       "      <td>alonso</td>\n",
       "      <td>14</td>\n",
       "      <td>ALO</td>\n",
       "      <td>Fernando</td>\n",
       "      <td>Alonso</td>\n",
       "      <td>1981-07-29</td>\n",
       "      <td>Spanish</td>\n",
       "      <td>http://en.wikipedia.org/wiki/Fernando_Alonso</td>\n",
       "    </tr>\n",
       "    <tr>\n",
       "      <th>4</th>\n",
       "      <td>5</td>\n",
       "      <td>kovalainen</td>\n",
       "      <td>\\N</td>\n",
       "      <td>KOV</td>\n",
       "      <td>Heikki</td>\n",
       "      <td>Kovalainen</td>\n",
       "      <td>1981-10-19</td>\n",
       "      <td>Finnish</td>\n",
       "      <td>http://en.wikipedia.org/wiki/Heikki_Kovalainen</td>\n",
       "    </tr>\n",
       "  </tbody>\n",
       "</table>\n",
       "</div>"
      ],
      "text/plain": [
       "   driverId   driverRef number code  forename     surname         dob  \\\n",
       "0         1    hamilton     44  HAM     Lewis    Hamilton  1985-01-07   \n",
       "1         2    heidfeld     \\N  HEI      Nick    Heidfeld  1977-05-10   \n",
       "2         3     rosberg      6  ROS      Nico     Rosberg  1985-06-27   \n",
       "3         4      alonso     14  ALO  Fernando      Alonso  1981-07-29   \n",
       "4         5  kovalainen     \\N  KOV    Heikki  Kovalainen  1981-10-19   \n",
       "\n",
       "  nationality                                             url  \n",
       "0     British     http://en.wikipedia.org/wiki/Lewis_Hamilton  \n",
       "1      German      http://en.wikipedia.org/wiki/Nick_Heidfeld  \n",
       "2      German       http://en.wikipedia.org/wiki/Nico_Rosberg  \n",
       "3     Spanish    http://en.wikipedia.org/wiki/Fernando_Alonso  \n",
       "4     Finnish  http://en.wikipedia.org/wiki/Heikki_Kovalainen  "
      ]
     },
     "execution_count": 1,
     "metadata": {},
     "output_type": "execute_result"
    }
   ],
   "source": [
    "import pandas as pd\n",
    "import numpy as np\n",
    "import matplotlib.pyplot as plt\n",
    "import seaborn as sns\n",
    "\n",
    "\n",
    "base_path = '../data/f1Data/'\n",
    "\n",
    "drivers = pd.read_csv(base_path + 'drivers.csv')\n",
    "results = pd.read_csv(base_path + 'results.csv')\n",
    "races = pd.read_csv(base_path + 'races.csv')\n",
    "constructors = pd.read_csv(base_path + 'constructors.csv')\n",
    "lap_times = pd.read_csv(base_path + 'lap_times.csv')\n",
    "pit_stops = pd.read_csv(base_path + 'pit_stops.csv')\n",
    "\n",
    "\n",
    "drivers.head()\n"
   ]
  },
  {
   "cell_type": "code",
   "execution_count": 2,
   "id": "4390db45-102e-4c8c-a7dc-901538f9a365",
   "metadata": {},
   "outputs": [
    {
     "data": {
      "text/plain": [
       "driverId       0\n",
       "driverRef      0\n",
       "number         0\n",
       "code           0\n",
       "forename       0\n",
       "surname        0\n",
       "dob            0\n",
       "nationality    0\n",
       "url            0\n",
       "dtype: int64"
      ]
     },
     "execution_count": 2,
     "metadata": {},
     "output_type": "execute_result"
    }
   ],
   "source": [
    "drivers.isnull().sum()"
   ]
  },
  {
   "cell_type": "code",
   "execution_count": 3,
   "id": "756e20dd-4a69-4b8c-9e39-90f247b6caf3",
   "metadata": {},
   "outputs": [
    {
     "data": {
      "text/plain": [
       "resultId           0\n",
       "raceId             0\n",
       "driverId           0\n",
       "constructorId      0\n",
       "number             0\n",
       "grid               0\n",
       "position           0\n",
       "positionText       0\n",
       "positionOrder      0\n",
       "points             0\n",
       "laps               0\n",
       "time               0\n",
       "milliseconds       0\n",
       "fastestLap         0\n",
       "rank               0\n",
       "fastestLapTime     0\n",
       "fastestLapSpeed    0\n",
       "statusId           0\n",
       "dtype: int64"
      ]
     },
     "execution_count": 3,
     "metadata": {},
     "output_type": "execute_result"
    }
   ],
   "source": [
    "results.head() \n",
    "\n",
    "results.isnull().sum()\n"
   ]
  },
  {
   "cell_type": "code",
   "execution_count": 4,
   "id": "c0ac3ba6-77d0-4759-9866-4fe70fea442c",
   "metadata": {},
   "outputs": [
    {
     "data": {
      "text/html": [
       "<div>\n",
       "<style scoped>\n",
       "    .dataframe tbody tr th:only-of-type {\n",
       "        vertical-align: middle;\n",
       "    }\n",
       "\n",
       "    .dataframe tbody tr th {\n",
       "        vertical-align: top;\n",
       "    }\n",
       "\n",
       "    .dataframe thead th {\n",
       "        text-align: right;\n",
       "    }\n",
       "</style>\n",
       "<table border=\"1\" class=\"dataframe\">\n",
       "  <thead>\n",
       "    <tr style=\"text-align: right;\">\n",
       "      <th></th>\n",
       "      <th>raceId</th>\n",
       "      <th>year</th>\n",
       "      <th>name</th>\n",
       "      <th>surname</th>\n",
       "      <th>grid</th>\n",
       "      <th>positionOrder</th>\n",
       "      <th>constructorRef</th>\n",
       "    </tr>\n",
       "  </thead>\n",
       "  <tbody>\n",
       "    <tr>\n",
       "      <th>0</th>\n",
       "      <td>18</td>\n",
       "      <td>2008</td>\n",
       "      <td>Australian Grand Prix</td>\n",
       "      <td>Hamilton</td>\n",
       "      <td>1</td>\n",
       "      <td>1</td>\n",
       "      <td>mclaren</td>\n",
       "    </tr>\n",
       "    <tr>\n",
       "      <th>1</th>\n",
       "      <td>19</td>\n",
       "      <td>2008</td>\n",
       "      <td>Malaysian Grand Prix</td>\n",
       "      <td>Hamilton</td>\n",
       "      <td>9</td>\n",
       "      <td>5</td>\n",
       "      <td>mclaren</td>\n",
       "    </tr>\n",
       "    <tr>\n",
       "      <th>2</th>\n",
       "      <td>20</td>\n",
       "      <td>2008</td>\n",
       "      <td>Bahrain Grand Prix</td>\n",
       "      <td>Hamilton</td>\n",
       "      <td>3</td>\n",
       "      <td>13</td>\n",
       "      <td>mclaren</td>\n",
       "    </tr>\n",
       "    <tr>\n",
       "      <th>3</th>\n",
       "      <td>21</td>\n",
       "      <td>2008</td>\n",
       "      <td>Spanish Grand Prix</td>\n",
       "      <td>Hamilton</td>\n",
       "      <td>5</td>\n",
       "      <td>3</td>\n",
       "      <td>mclaren</td>\n",
       "    </tr>\n",
       "    <tr>\n",
       "      <th>4</th>\n",
       "      <td>22</td>\n",
       "      <td>2008</td>\n",
       "      <td>Turkish Grand Prix</td>\n",
       "      <td>Hamilton</td>\n",
       "      <td>3</td>\n",
       "      <td>2</td>\n",
       "      <td>mclaren</td>\n",
       "    </tr>\n",
       "  </tbody>\n",
       "</table>\n",
       "</div>"
      ],
      "text/plain": [
       "   raceId  year                   name   surname  grid  positionOrder  \\\n",
       "0      18  2008  Australian Grand Prix  Hamilton     1              1   \n",
       "1      19  2008   Malaysian Grand Prix  Hamilton     9              5   \n",
       "2      20  2008     Bahrain Grand Prix  Hamilton     3             13   \n",
       "3      21  2008     Spanish Grand Prix  Hamilton     5              3   \n",
       "4      22  2008     Turkish Grand Prix  Hamilton     3              2   \n",
       "\n",
       "  constructorRef  \n",
       "0        mclaren  \n",
       "1        mclaren  \n",
       "2        mclaren  \n",
       "3        mclaren  \n",
       "4        mclaren  "
      ]
     },
     "execution_count": 4,
     "metadata": {},
     "output_type": "execute_result"
    }
   ],
   "source": [
    "merged = results.merge(races, on='raceId', suffixes=('', '_race'))\n",
    "\n",
    "merged = merged.merge(drivers, on='driverId', suffixes=('', '_driver'))\n",
    "\n",
    "merged = merged.merge(constructors, on='constructorId', suffixes=('', '_team'))\n",
    "\n",
    "merged[['raceId', 'year', 'name', 'surname', 'grid', 'positionOrder', 'constructorRef']].head()\n"
   ]
  },
  {
   "cell_type": "code",
   "execution_count": 5,
   "id": "00f1ca57-759a-422e-9a85-3aca6c968807",
   "metadata": {},
   "outputs": [
    {
     "data": {
      "text/plain": [
       "podium_finish\n",
       "0    23362\n",
       "1     3397\n",
       "Name: count, dtype: int64"
      ]
     },
     "execution_count": 5,
     "metadata": {},
     "output_type": "execute_result"
    }
   ],
   "source": [
    "merged['podium_finish'] = merged['positionOrder'].apply(lambda x: 1 if x <= 3 else 0)\n",
    "\n",
    "merged['podium_finish'].value_counts()\n"
   ]
  },
  {
   "cell_type": "code",
   "execution_count": 6,
   "id": "ce4bbdfc-5b02-4319-9cf0-185a344f45c0",
   "metadata": {},
   "outputs": [
    {
     "data": {
      "text/plain": [
       "(   grid\n",
       " 0     1\n",
       " 1     9\n",
       " 2     3\n",
       " 3     5\n",
       " 4     3,\n",
       " 0    1\n",
       " 1    0\n",
       " 2    0\n",
       " 3    1\n",
       " 4    1\n",
       " Name: podium_finish, dtype: int64)"
      ]
     },
     "execution_count": 6,
     "metadata": {},
     "output_type": "execute_result"
    }
   ],
   "source": [
    "ml_data = merged[['grid', 'positionOrder', 'podium_finish']].copy()\n",
    "\n",
    "ml_data = ml_data.dropna()\n",
    "\n",
    "X = ml_data[['grid']]\n",
    "y = ml_data['podium_finish']\n",
    "\n",
    "X.head(), y.head()\n"
   ]
  },
  {
   "cell_type": "code",
   "execution_count": 7,
   "id": "3745337e-a896-4e98-82dc-2595b115da7b",
   "metadata": {},
   "outputs": [],
   "source": [
    "# I selected these features because they are likely to influence race outcomes:\n",
    "# grid: starting position is known to affect race results\n",
    "# driverId: accounts for the skill/experience of the driver\n",
    "# constructorId: reflects the team's overall performance and resources\n",
    "# year and round: shows historical trends and seasonal changes (like new regulations, team upgrades)\n",
    "features = merged[['grid', 'driverId', 'constructorId', 'year', 'round']]\n",
    "\n",
    "# Dropping missing values to ensure that the dataset is clean before training the model.\n",
    "# I matched the target index with features to keep alignment.\n",
    "features = features.dropna()\n",
    "target = merged['podium_finish'].loc[features.index]"
   ]
  },
  {
   "cell_type": "code",
   "execution_count": 8,
   "id": "f521382d-7063-4623-bcc0-f6ce4089d656",
   "metadata": {},
   "outputs": [],
   "source": [
    "from sklearn.model_selection import train_test_split\n",
    "\n",
    "X_train, X_test, y_train, y_test = train_test_split(features, target, test_size=0.2, random_state=42)\n"
   ]
  },
  {
   "cell_type": "code",
   "execution_count": 9,
   "id": "225ff61a-4dc7-4178-b528-a12f450b2bfc",
   "metadata": {},
   "outputs": [
    {
     "data": {
      "text/html": [
       "<style>#sk-container-id-1 {color: black;}#sk-container-id-1 pre{padding: 0;}#sk-container-id-1 div.sk-toggleable {background-color: white;}#sk-container-id-1 label.sk-toggleable__label {cursor: pointer;display: block;width: 100%;margin-bottom: 0;padding: 0.3em;box-sizing: border-box;text-align: center;}#sk-container-id-1 label.sk-toggleable__label-arrow:before {content: \"▸\";float: left;margin-right: 0.25em;color: #696969;}#sk-container-id-1 label.sk-toggleable__label-arrow:hover:before {color: black;}#sk-container-id-1 div.sk-estimator:hover label.sk-toggleable__label-arrow:before {color: black;}#sk-container-id-1 div.sk-toggleable__content {max-height: 0;max-width: 0;overflow: hidden;text-align: left;background-color: #f0f8ff;}#sk-container-id-1 div.sk-toggleable__content pre {margin: 0.2em;color: black;border-radius: 0.25em;background-color: #f0f8ff;}#sk-container-id-1 input.sk-toggleable__control:checked~div.sk-toggleable__content {max-height: 200px;max-width: 100%;overflow: auto;}#sk-container-id-1 input.sk-toggleable__control:checked~label.sk-toggleable__label-arrow:before {content: \"▾\";}#sk-container-id-1 div.sk-estimator input.sk-toggleable__control:checked~label.sk-toggleable__label {background-color: #d4ebff;}#sk-container-id-1 div.sk-label input.sk-toggleable__control:checked~label.sk-toggleable__label {background-color: #d4ebff;}#sk-container-id-1 input.sk-hidden--visually {border: 0;clip: rect(1px 1px 1px 1px);clip: rect(1px, 1px, 1px, 1px);height: 1px;margin: -1px;overflow: hidden;padding: 0;position: absolute;width: 1px;}#sk-container-id-1 div.sk-estimator {font-family: monospace;background-color: #f0f8ff;border: 1px dotted black;border-radius: 0.25em;box-sizing: border-box;margin-bottom: 0.5em;}#sk-container-id-1 div.sk-estimator:hover {background-color: #d4ebff;}#sk-container-id-1 div.sk-parallel-item::after {content: \"\";width: 100%;border-bottom: 1px solid gray;flex-grow: 1;}#sk-container-id-1 div.sk-label:hover label.sk-toggleable__label {background-color: #d4ebff;}#sk-container-id-1 div.sk-serial::before {content: \"\";position: absolute;border-left: 1px solid gray;box-sizing: border-box;top: 0;bottom: 0;left: 50%;z-index: 0;}#sk-container-id-1 div.sk-serial {display: flex;flex-direction: column;align-items: center;background-color: white;padding-right: 0.2em;padding-left: 0.2em;position: relative;}#sk-container-id-1 div.sk-item {position: relative;z-index: 1;}#sk-container-id-1 div.sk-parallel {display: flex;align-items: stretch;justify-content: center;background-color: white;position: relative;}#sk-container-id-1 div.sk-item::before, #sk-container-id-1 div.sk-parallel-item::before {content: \"\";position: absolute;border-left: 1px solid gray;box-sizing: border-box;top: 0;bottom: 0;left: 50%;z-index: -1;}#sk-container-id-1 div.sk-parallel-item {display: flex;flex-direction: column;z-index: 1;position: relative;background-color: white;}#sk-container-id-1 div.sk-parallel-item:first-child::after {align-self: flex-end;width: 50%;}#sk-container-id-1 div.sk-parallel-item:last-child::after {align-self: flex-start;width: 50%;}#sk-container-id-1 div.sk-parallel-item:only-child::after {width: 0;}#sk-container-id-1 div.sk-dashed-wrapped {border: 1px dashed gray;margin: 0 0.4em 0.5em 0.4em;box-sizing: border-box;padding-bottom: 0.4em;background-color: white;}#sk-container-id-1 div.sk-label label {font-family: monospace;font-weight: bold;display: inline-block;line-height: 1.2em;}#sk-container-id-1 div.sk-label-container {text-align: center;}#sk-container-id-1 div.sk-container {/* jupyter's `normalize.less` sets `[hidden] { display: none; }` but bootstrap.min.css set `[hidden] { display: none !important; }` so we also need the `!important` here to be able to override the default hidden behavior on the sphinx rendered scikit-learn.org. See: https://github.com/scikit-learn/scikit-learn/issues/21755 */display: inline-block !important;position: relative;}#sk-container-id-1 div.sk-text-repr-fallback {display: none;}</style><div id=\"sk-container-id-1\" class=\"sk-top-container\"><div class=\"sk-text-repr-fallback\"><pre>RandomForestClassifier(random_state=42)</pre><b>In a Jupyter environment, please rerun this cell to show the HTML representation or trust the notebook. <br />On GitHub, the HTML representation is unable to render, please try loading this page with nbviewer.org.</b></div><div class=\"sk-container\" hidden><div class=\"sk-item\"><div class=\"sk-estimator sk-toggleable\"><input class=\"sk-toggleable__control sk-hidden--visually\" id=\"sk-estimator-id-1\" type=\"checkbox\" checked><label for=\"sk-estimator-id-1\" class=\"sk-toggleable__label sk-toggleable__label-arrow\">RandomForestClassifier</label><div class=\"sk-toggleable__content\"><pre>RandomForestClassifier(random_state=42)</pre></div></div></div></div></div>"
      ],
      "text/plain": [
       "RandomForestClassifier(random_state=42)"
      ]
     },
     "execution_count": 9,
     "metadata": {},
     "output_type": "execute_result"
    }
   ],
   "source": [
    "from sklearn.ensemble import RandomForestClassifier\n",
    "\n",
    "rf = RandomForestClassifier(n_estimators=100, random_state=42)\n",
    "rf.fit(X_train, y_train)\n"
   ]
  },
  {
   "cell_type": "code",
   "execution_count": 10,
   "id": "0fb39d13-6817-4e7b-8824-ff74a35ee8f0",
   "metadata": {},
   "outputs": [
    {
     "name": "stdout",
     "output_type": "stream",
     "text": [
      "Accuracy: 0.8804185351270553\n",
      "\n",
      "Confusion Matrix:\n",
      " [[4417  231]\n",
      " [ 409  295]]\n",
      "\n",
      "Classification Report:\n",
      "               precision    recall  f1-score   support\n",
      "\n",
      "           0       0.92      0.95      0.93      4648\n",
      "           1       0.56      0.42      0.48       704\n",
      "\n",
      "    accuracy                           0.88      5352\n",
      "   macro avg       0.74      0.68      0.71      5352\n",
      "weighted avg       0.87      0.88      0.87      5352\n",
      "\n"
     ]
    }
   ],
   "source": [
    "from sklearn.metrics import accuracy_score, confusion_matrix, classification_report\n",
    "\n",
    "y_pred = rf.predict(X_test)\n",
    "\n",
    "print(\"Accuracy:\", accuracy_score(y_test, y_pred))\n",
    "print(\"\\nConfusion Matrix:\\n\", confusion_matrix(y_test, y_pred))\n",
    "print(\"\\nClassification Report:\\n\", classification_report(y_test, y_pred))\n"
   ]
  },
  {
   "cell_type": "code",
   "execution_count": 11,
   "id": "5910d420-85e4-4c62-aeff-f7f50e86b224",
   "metadata": {},
   "outputs": [
    {
     "data": {
      "image/png": "[encoded data removed]",
      "text/plain": [
       "<Figure size 800x500 with 1 Axes>"
      ]
     },
     "metadata": {},
     "output_type": "display_data"
    }
   ],
   "source": [
    "import matplotlib.pyplot as plt\n",
    "\n",
    "importances = rf.feature_importances_\n",
    "feature_names = features.columns\n",
    "\n",
    "plt.figure(figsize=(8, 5))\n",
    "plt.barh(feature_names, importances)\n",
    "plt.xlabel(\"Feature Importance\")\n",
    "plt.title(\"Random Forest Feature Importances\")\n",
    "plt.show()\n"
   ]
  },
  {
   "cell_type": "code",
   "execution_count": 12,
   "id": "05e4ce4b-eb8c-408c-91ca-d945b223d300",
   "metadata": {},
   "outputs": [
    {
     "name": "stdout",
     "output_type": "stream",
     "text": [
      "Accuracy: 0.8804185351270553\n",
      "\n",
      "Confusion Matrix:\n",
      " [[4417  231]\n",
      " [ 409  295]]\n",
      "\n",
      "Classification Report:\n",
      "               precision    recall  f1-score   support\n",
      "\n",
      "           0       0.92      0.95      0.93      4648\n",
      "           1       0.56      0.42      0.48       704\n",
      "\n",
      "    accuracy                           0.88      5352\n",
      "   macro avg       0.74      0.68      0.71      5352\n",
      "weighted avg       0.87      0.88      0.87      5352\n",
      "\n"
     ]
    }
   ],
   "source": [
    "print(\"Accuracy:\", accuracy_score(y_test, y_pred))\n",
    "print(\"\\nConfusion Matrix:\\n\", confusion_matrix(y_test, y_pred))\n",
    "print(\"\\nClassification Report:\\n\", classification_report(y_test, y_pred))\n"
   ]
  },
  {
   "cell_type": "code",
   "execution_count": 13,
   "id": "cc7f9fea-53c2-44eb-bcee-2662bb10c959",
   "metadata": {},
   "outputs": [],
   "source": [
    "# Unsupervised Learning clustering of drivers based on performance"
   ]
  },
  {
   "cell_type": "code",
   "execution_count": 14,
   "id": "5bbe7ee4-c1da-4143-9a51-97c4e2f5a6cb",
   "metadata": {},
   "outputs": [
    {
     "data": {
      "text/html": [
       "<div>\n",
       "<style scoped>\n",
       "    .dataframe tbody tr th:only-of-type {\n",
       "        vertical-align: middle;\n",
       "    }\n",
       "\n",
       "    .dataframe tbody tr th {\n",
       "        vertical-align: top;\n",
       "    }\n",
       "\n",
       "    .dataframe thead th {\n",
       "        text-align: right;\n",
       "    }\n",
       "</style>\n",
       "<table border=\"1\" class=\"dataframe\">\n",
       "  <thead>\n",
       "    <tr style=\"text-align: right;\">\n",
       "      <th></th>\n",
       "      <th>avg_grid</th>\n",
       "      <th>avg_finish</th>\n",
       "      <th>avg_gain</th>\n",
       "      <th>num_races</th>\n",
       "    </tr>\n",
       "    <tr>\n",
       "      <th>driverId</th>\n",
       "      <th></th>\n",
       "      <th></th>\n",
       "      <th></th>\n",
       "      <th></th>\n",
       "    </tr>\n",
       "  </thead>\n",
       "  <tbody>\n",
       "    <tr>\n",
       "      <th>1</th>\n",
       "      <td>4.300562</td>\n",
       "      <td>5.019663</td>\n",
       "      <td>-0.719101</td>\n",
       "      <td>356</td>\n",
       "    </tr>\n",
       "    <tr>\n",
       "      <th>2</th>\n",
       "      <td>11.336957</td>\n",
       "      <td>10.722826</td>\n",
       "      <td>0.614130</td>\n",
       "      <td>184</td>\n",
       "    </tr>\n",
       "    <tr>\n",
       "      <th>3</th>\n",
       "      <td>6.902913</td>\n",
       "      <td>8.252427</td>\n",
       "      <td>-1.349515</td>\n",
       "      <td>206</td>\n",
       "    </tr>\n",
       "    <tr>\n",
       "      <th>4</th>\n",
       "      <td>8.579208</td>\n",
       "      <td>8.492574</td>\n",
       "      <td>0.086634</td>\n",
       "      <td>404</td>\n",
       "    </tr>\n",
       "    <tr>\n",
       "      <th>5</th>\n",
       "      <td>13.741071</td>\n",
       "      <td>13.285714</td>\n",
       "      <td>0.455357</td>\n",
       "      <td>112</td>\n",
       "    </tr>\n",
       "  </tbody>\n",
       "</table>\n",
       "</div>"
      ],
      "text/plain": [
       "           avg_grid  avg_finish  avg_gain  num_races\n",
       "driverId                                            \n",
       "1          4.300562    5.019663 -0.719101        356\n",
       "2         11.336957   10.722826  0.614130        184\n",
       "3          6.902913    8.252427 -1.349515        206\n",
       "4          8.579208    8.492574  0.086634        404\n",
       "5         13.741071   13.285714  0.455357        112"
      ]
     },
     "execution_count": 14,
     "metadata": {},
     "output_type": "execute_result"
    }
   ],
   "source": [
    "# i already jhave the merged dataset so i will re-use. \n",
    "driver_stats = merged.copy()\n",
    "\n",
    "# Calculating positions gained\n",
    "driver_stats['positions_gained'] = driver_stats['grid'] - driver_stats['positionOrder']\n",
    "\n",
    "# Group by driver and calculate averages\n",
    "driver_perf = driver_stats.groupby('driverId').agg({\n",
    "    'grid': 'mean',\n",
    "    'positionOrder': 'mean',\n",
    "    'positions_gained': 'mean',\n",
    "    'raceId': 'count'  # number of races\n",
    "}).rename(columns={'grid': 'avg_grid', 'positionOrder': 'avg_finish', 'positions_gained': 'avg_gain', 'raceId': 'num_races'})\n",
    "\n",
    "# Drop any drivers with very few races (less reliable)\n",
    "driver_perf = driver_perf[driver_perf['num_races'] >= 10]\n",
    "\n",
    "driver_perf.head()\n"
   ]
  },
  {
   "cell_type": "code",
   "execution_count": 15,
   "id": "aae6fc54-c6b7-4ff5-8eec-74a1458c384c",
   "metadata": {},
   "outputs": [],
   "source": [
    "# adding drivername for better overview"
   ]
  },
  {
   "cell_type": "code",
   "execution_count": 16,
   "id": "43f1c903-e4ca-4ae0-b0d6-99532c55329d",
   "metadata": {},
   "outputs": [
    {
     "data": {
      "text/html": [
       "<div>\n",
       "<style scoped>\n",
       "    .dataframe tbody tr th:only-of-type {\n",
       "        vertical-align: middle;\n",
       "    }\n",
       "\n",
       "    .dataframe tbody tr th {\n",
       "        vertical-align: top;\n",
       "    }\n",
       "\n",
       "    .dataframe thead th {\n",
       "        text-align: right;\n",
       "    }\n",
       "</style>\n",
       "<table border=\"1\" class=\"dataframe\">\n",
       "  <thead>\n",
       "    <tr style=\"text-align: right;\">\n",
       "      <th></th>\n",
       "      <th>driverId</th>\n",
       "      <th>driver_name</th>\n",
       "      <th>avg_grid</th>\n",
       "      <th>avg_finish</th>\n",
       "      <th>avg_gain</th>\n",
       "      <th>num_races</th>\n",
       "    </tr>\n",
       "  </thead>\n",
       "  <tbody>\n",
       "    <tr>\n",
       "      <th>0</th>\n",
       "      <td>1</td>\n",
       "      <td>Lewis Hamilton</td>\n",
       "      <td>4.300562</td>\n",
       "      <td>5.019663</td>\n",
       "      <td>-0.719101</td>\n",
       "      <td>356</td>\n",
       "    </tr>\n",
       "    <tr>\n",
       "      <th>1</th>\n",
       "      <td>2</td>\n",
       "      <td>Nick Heidfeld</td>\n",
       "      <td>11.336957</td>\n",
       "      <td>10.722826</td>\n",
       "      <td>0.614130</td>\n",
       "      <td>184</td>\n",
       "    </tr>\n",
       "    <tr>\n",
       "      <th>2</th>\n",
       "      <td>3</td>\n",
       "      <td>Nico Rosberg</td>\n",
       "      <td>6.902913</td>\n",
       "      <td>8.252427</td>\n",
       "      <td>-1.349515</td>\n",
       "      <td>206</td>\n",
       "    </tr>\n",
       "    <tr>\n",
       "      <th>3</th>\n",
       "      <td>4</td>\n",
       "      <td>Fernando Alonso</td>\n",
       "      <td>8.579208</td>\n",
       "      <td>8.492574</td>\n",
       "      <td>0.086634</td>\n",
       "      <td>404</td>\n",
       "    </tr>\n",
       "    <tr>\n",
       "      <th>4</th>\n",
       "      <td>5</td>\n",
       "      <td>Heikki Kovalainen</td>\n",
       "      <td>13.741071</td>\n",
       "      <td>13.285714</td>\n",
       "      <td>0.455357</td>\n",
       "      <td>112</td>\n",
       "    </tr>\n",
       "  </tbody>\n",
       "</table>\n",
       "</div>"
      ],
      "text/plain": [
       "   driverId        driver_name   avg_grid  avg_finish  avg_gain  num_races\n",
       "0         1     Lewis Hamilton   4.300562    5.019663 -0.719101        356\n",
       "1         2      Nick Heidfeld  11.336957   10.722826  0.614130        184\n",
       "2         3       Nico Rosberg   6.902913    8.252427 -1.349515        206\n",
       "3         4    Fernando Alonso   8.579208    8.492574  0.086634        404\n",
       "4         5  Heikki Kovalainen  13.741071   13.285714  0.455357        112"
      ]
     },
     "execution_count": 16,
     "metadata": {},
     "output_type": "execute_result"
    }
   ],
   "source": [
    "# Select only the relevant columns from the drivers dataframe\n",
    "driver_names = drivers[['driverId', 'forename', 'surname']]\n",
    "\n",
    "# Merge into the driver_perf dataframe\n",
    "driver_perf = driver_perf.merge(driver_names, on='driverId')\n",
    "\n",
    "# Optional: create a full name column for easier readability\n",
    "driver_perf['driver_name'] = driver_perf['forename'] + ' ' + driver_perf['surname']\n",
    "\n",
    "# Reorder columns so names come first\n",
    "cols = ['driverId', 'driver_name', 'avg_grid', 'avg_finish', 'avg_gain', 'num_races']\n",
    "if 'cluster' in driver_perf.columns:\n",
    "    cols.append('cluster')\n",
    "if 'pca1' in driver_perf.columns and 'pca2' in driver_perf.columns:\n",
    "    cols.extend(['pca1', 'pca2'])\n",
    "\n",
    "driver_perf = driver_perf[cols]\n",
    "\n",
    "# View result\n",
    "driver_perf.head()\n"
   ]
  },
  {
   "cell_type": "code",
   "execution_count": 17,
   "id": "30962e98-ea0b-46ff-a63d-1f7f4e1dd97f",
   "metadata": {},
   "outputs": [],
   "source": [
    "from sklearn.preprocessing import StandardScaler\n",
    "\n",
    "scaler = StandardScaler()\n",
    "scaled_features = scaler.fit_transform(driver_perf[['avg_grid', 'avg_finish', 'avg_gain']])\n"
   ]
  },
  {
   "cell_type": "code",
   "execution_count": 18,
   "id": "65554b0d-7a4f-4a43-bb4e-d8f75c48cf5f",
   "metadata": {},
   "outputs": [
    {
     "name": "stderr",
     "output_type": "stream",
     "text": [
      "/Users/vivek/anaconda3/lib/python3.11/site-packages/sklearn/cluster/_kmeans.py:1412: FutureWarning: The default value of `n_init` will change from 10 to 'auto' in 1.4. Set the value of `n_init` explicitly to suppress the warning\n",
      "  super()._check_params_vs_input(X, default_n_init=10)\n"
     ]
    },
    {
     "data": {
      "text/plain": [
       "cluster\n",
       "2    208\n",
       "0    149\n",
       "1     20\n",
       "Name: count, dtype: int64"
      ]
     },
     "execution_count": 18,
     "metadata": {},
     "output_type": "execute_result"
    }
   ],
   "source": [
    "from sklearn.cluster import KMeans\n",
    "\n",
    "# Let's try 3 clusters to start with\n",
    "kmeans = KMeans(n_clusters=3, random_state=42)\n",
    "clusters = kmeans.fit_predict(scaled_features)\n",
    "\n",
    "# Add cluster labels back to dataframe\n",
    "driver_perf['cluster'] = clusters\n",
    "\n",
    "# Check distribution\n",
    "driver_perf['cluster'].value_counts()\n"
   ]
  },
  {
   "cell_type": "code",
   "execution_count": 4,
   "id": "8e275784-1148-4d2c-bd86-e5f873fff09b",
   "metadata": {},
   "outputs": [
    {
     "ename": "NameError",
     "evalue": "name 'scaled_features' is not defined",
     "output_type": "error",
     "traceback": [
      "\u001b[0;31m---------------------------------------------------------------------------\u001b[0m",
      "\u001b[0;31mNameError\u001b[0m                                 Traceback (most recent call last)",
      "Cell \u001b[0;32mIn[4], line 6\u001b[0m\n\u001b[1;32m      4\u001b[0m \u001b[38;5;66;03m# Fit PCA to reduce dimensions\u001b[39;00m\n\u001b[1;32m      5\u001b[0m pca \u001b[38;5;241m=\u001b[39m PCA(n_components\u001b[38;5;241m=\u001b[39m\u001b[38;5;241m2\u001b[39m)\n\u001b[0;32m----> 6\u001b[0m pca_result \u001b[38;5;241m=\u001b[39m pca\u001b[38;5;241m.\u001b[39mfit_transform(scaled_features)\n\u001b[1;32m      8\u001b[0m \u001b[38;5;66;03m# Add PCA results to the dataframe with more descriptive names\u001b[39;00m\n\u001b[1;32m      9\u001b[0m driver_perf[\u001b[38;5;124m'\u001b[39m\u001b[38;5;124mPerformance Dimension 1\u001b[39m\u001b[38;5;124m'\u001b[39m] \u001b[38;5;241m=\u001b[39m pca_result[:, \u001b[38;5;241m0\u001b[39m]\n",
      "\u001b[0;31mNameError\u001b[0m: name 'scaled_features' is not defined"
     ]
    }
   ],
   "source": [
    "from sklearn.decomposition import PCA\n",
    "import matplotlib.pyplot as plt\n",
    "\n",
    "# Fit PCA to reduce dimensions\n",
    "pca = PCA(n_components=2)\n",
    "pca_result = pca.fit_transform(scaled_features)\n",
    "\n",
    "# Add PCA results to the dataframe with more descriptive names\n",
    "driver_perf['Performance Dimension 1'] = pca_result[:, 0]\n",
    "driver_perf['Performance Dimension 2'] = pca_result[:, 1]\n",
    "\n",
    "# Map cluster numbers to meaningful labels\n",
    "cluster_labels = {\n",
    "    0: 'Comeback Drivers',\n",
    "    1: 'Front Runners',\n",
    "    2: 'Backmarkers'\n",
    "}\n",
    "driver_perf['driver_type'] = driver_perf['cluster'].map(cluster_labels)\n",
    "# Cluster meanings:\n",
    "# 0 → Comeback Drivers: strong gainers\n",
    "# 1 → Front Runners: top performers\n",
    "# 2 → Backmarkers: lower grid and finish\n",
    "\n",
    "# Plot the clusters with clearer labels\n",
    "plt.figure(figsize=(10, 6))\n",
    "\n",
    "for label in driver_perf['driver_type'].unique():\n",
    "    subset = driver_perf[driver_perf['driver_type'] == label]\n",
    "    plt.scatter(\n",
    "        subset['Performance Dimension 1'],\n",
    "        subset['Performance Dimension 2'],\n",
    "        label=label\n",
    "    )\n",
    "\n",
    "plt.title('Clustering Drivers by Performance Patterns')\n",
    "plt.xlabel('Performance Dimension 1')\n",
    "plt.ylabel('Performance Dimension 2')\n",
    "plt.legend()\n",
    "plt.grid(True)\n",
    "plt.show()\n"
   ]
  },
  {
   "cell_type": "code",
   "execution_count": null,
   "id": "4d70e224-8f1e-42e2-8b41-498d4c142f6a",
   "metadata": {},
   "outputs": [],
   "source": [
    "import joblib\n",
    "\n",
    "# Save model for Part 1 (Streamlit UI)\n",
    "joblib.dump(rf, '../part1_presentation/model.pkl')\n"
   ]
  },
  {
   "cell_type": "code",
   "execution_count": 6,
   "id": "0a46b773-04df-49f9-a663-ecbeeda61bcc",
   "metadata": {},
   "outputs": [
    {
     "ename": "NameError",
     "evalue": "name 'rf' is not defined",
     "output_type": "error",
     "traceback": [
      "\u001b[0;31m---------------------------------------------------------------------------\u001b[0m",
      "\u001b[0;31mNameError\u001b[0m                                 Traceback (most recent call last)",
      "Cell \u001b[0;32mIn[6], line 4\u001b[0m\n\u001b[1;32m      1\u001b[0m \u001b[38;5;28;01mimport\u001b[39;00m \u001b[38;5;21;01mjoblib\u001b[39;00m\n\u001b[1;32m      3\u001b[0m \u001b[38;5;66;03m# Save model for Part 2\u001b[39;00m\n\u001b[0;32m----> 4\u001b[0m joblib\u001b[38;5;241m.\u001b[39mdump(rf, \u001b[38;5;124m'\u001b[39m\u001b[38;5;124m../part2_rag_llama/model.pkl\u001b[39m\u001b[38;5;124m'\u001b[39m)\n",
      "\u001b[0;31mNameError\u001b[0m: name 'rf' is not defined"
     ]
    }
   ],
   "source": [
    "import joblib\n",
    "\n",
    "# Save model for Part 2\n",
    "joblib.dump(rf, '../part2_rag_llama/model.pkl')\n"
   ]
  },
  {
   "cell_type": "code",
   "execution_count": 21,
   "id": "6f828c0d-35dd-4010-aacf-57c30b7a2b80",
   "metadata": {},
   "outputs": [],
   "source": [
    "##  Reflection\n",
    "\n",
    "# Working on this project helped me better understand how supervised and unsupervised machine learning can be applied to real-world data. Even though the goal was to predict whether a driver would finish on the podium — and the actual outcomes were already known — it was still valuable to simulate predictions and see how the model performed.\n",
    "\n",
    "# Through data cleaning and feature selection, I saw how much impact the input data has on results. For example, `grid position` turned out to be one of the most important predictors, which makes sense intuitively.\n",
    "\n",
    "# For the supervised model, I used Random Forest because it performed well with minimal tuning. I also used KMeans and PCA to cluster drivers and explore performance patterns without labels, which helped identify types of drivers like “Comeback Drivers”.\n",
    "\n",
    "# One challenge was handling many IDs (drivers, teams, races) and turning them into meaningful features, which I solved through merging and careful mapping.\n",
    "\n",
    "# Overall, I gained confidence in training models, cleaning data, and deploying a working prototype — even if it's just for historical simulation. If I had more time, I’d experiment with more features (like weather or lap data), tune hyperparameters more deeply, and try comparing models.\n",
    "\n"
   ]
  },
  {
   "cell_type": "code",
   "execution_count": null,
   "id": "2d2caac8-ca25-40a2-87b1-7174e6930bd4",
   "metadata": {},
   "outputs": [],
   "source": []
  }
 ],
 "metadata": {
  "kernelspec": {
   "display_name": "Python [conda env:base] *",
   "language": "python",
   "name": "conda-base-py"
  },
  "language_info": {
   "codemirror_mode": {
    "name": "ipython",
    "version": 3
   },
   "file_extension": ".py",
   "mimetype": "text/x-python",
   "name": "python",
   "nbconvert_exporter": "python",
   "pygments_lexer": "ipython3",
   "version": "3.11.5"
  }
 },
 "nbformat": 4,
 "nbformat_minor": 5
}
